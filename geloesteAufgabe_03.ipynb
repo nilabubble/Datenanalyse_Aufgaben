{
  "cells": [
    {
      "cell_type": "markdown",
      "metadata": {},
      "source": [
        "# Aufgabenblatt 3\n",
        "\n",
        "<u> Praktikumsgruppe 1"
      ]
    },
    {
      "cell_type": "markdown",
      "metadata": {},
      "source": []
    },
    {
      "cell_type": "markdown",
      "metadata": {},
      "source": [
        "**Aufgabe 1a:**\n",
        "\n",
        "Was versteht man unter der Datenstruktur *Series* aus der *pandas*-Bibliothek? Geben Sie ein Beispiel an. \n",
        "\n",
        "Unter einer *Series* versteht man ein eindimensionales, Array-artiges Objekt. Es besteht aus einer Sequenz aus Werte, die vom Typ vergleichbar mit NumPy-Typen sind. Es enthält damit ein verbundenes Array aus Markierungen und Labels (sog. *Index*). Die einfachste Series stellt ein Array aus Daten dar: \n",
        "\n",
        "<u>Beispiel:"
      ]
    },
    {
      "cell_type": "code",
      "execution_count": 33,
      "metadata": {},
      "outputs": [
        {
          "data": {
            "text/plain": [
              "0    1\n",
              "1    2\n",
              "2    3\n",
              "3   -4\n",
              "4    6\n",
              "dtype: int64"
            ]
          },
          "execution_count": 33,
          "metadata": {},
          "output_type": "execute_result"
        }
      ],
      "source": [
        "import pandas as pd\n",
        "\n",
        "series1 = pd.Series([1, 2, 3, -4, 6])\n",
        "series1"
      ]
    },
    {
      "cell_type": "code",
      "execution_count": 34,
      "metadata": {},
      "outputs": [
        {
          "data": {
            "text/plain": [
              "Anton     1\n",
              "Berta     2\n",
              "Gisela    3\n",
              "Kurt     -4\n",
              "Bert      6\n",
              "dtype: int64"
            ]
          },
          "execution_count": 34,
          "metadata": {},
          "output_type": "execute_result"
        }
      ],
      "source": [
        "series2 = pd.Series([1, 2, 3, -4, 6], index = ['Anton', 'Berta', 'Gisela', 'Kurt', 'Bert'])\n",
        "series2"
      ]
    },
    {
      "cell_type": "markdown",
      "metadata": {},
      "source": [
        "**Aufgabe 1b:**\n",
        "\n",
        "Erklären Sie die Datenstruktur *DataFrame* aus der *pandas*-Bibliothek. Geben Sie ein Beispiel an. "
      ]
    },
    {
      "cell_type": "markdown",
      "metadata": {},
      "source": [
        "Ein *DataFrame* stellt eine Datentabelle rechteckiger Struktur dar, die eine geordnete Sammlung aus Spalten enthält. Diese können jeweils auf einem anderen Werttyp (numerisch, String, boolsch etc.) bestehen. In einem *DataFrame* gibt es sowohl einen *Zeilen-* als auch *Spaltenindex*. Gespeichert werden *DataFrames* als Blöcke (einer oder mehrere).\n",
        "\n",
        "<u>Beispiel:"
      ]
    },
    {
      "cell_type": "code",
      "execution_count": 35,
      "metadata": {},
      "outputs": [
        {
          "data": {
            "text/html": [
              "<div>\n",
              "<style scoped>\n",
              "    .dataframe tbody tr th:only-of-type {\n",
              "        vertical-align: middle;\n",
              "    }\n",
              "\n",
              "    .dataframe tbody tr th {\n",
              "        vertical-align: top;\n",
              "    }\n",
              "\n",
              "    .dataframe thead th {\n",
              "        text-align: right;\n",
              "    }\n",
              "</style>\n",
              "<table border=\"1\" class=\"dataframe\">\n",
              "  <thead>\n",
              "    <tr style=\"text-align: right;\">\n",
              "      <th></th>\n",
              "      <th>Student</th>\n",
              "      <th>Semester</th>\n",
              "      <th>Notendurchschnitt</th>\n",
              "    </tr>\n",
              "  </thead>\n",
              "  <tbody>\n",
              "    <tr>\n",
              "      <th>0</th>\n",
              "      <td>Ida</td>\n",
              "      <td>1</td>\n",
              "      <td>1.3</td>\n",
              "    </tr>\n",
              "    <tr>\n",
              "      <th>1</th>\n",
              "      <td>Edda</td>\n",
              "      <td>3</td>\n",
              "      <td>3.3</td>\n",
              "    </tr>\n",
              "    <tr>\n",
              "      <th>2</th>\n",
              "      <td>Gerda</td>\n",
              "      <td>2</td>\n",
              "      <td>2.7</td>\n",
              "    </tr>\n",
              "    <tr>\n",
              "      <th>3</th>\n",
              "      <td>Fred</td>\n",
              "      <td>5</td>\n",
              "      <td>4.0</td>\n",
              "    </tr>\n",
              "    <tr>\n",
              "      <th>4</th>\n",
              "      <td>Wolf</td>\n",
              "      <td>10</td>\n",
              "      <td>4.0</td>\n",
              "    </tr>\n",
              "  </tbody>\n",
              "</table>\n",
              "</div>"
            ],
            "text/plain": [
              "  Student  Semester  Notendurchschnitt\n",
              "0     Ida         1                1.3\n",
              "1    Edda         3                3.3\n",
              "2   Gerda         2                2.7\n",
              "3    Fred         5                4.0\n",
              "4    Wolf        10                4.0"
            ]
          },
          "execution_count": 35,
          "metadata": {},
          "output_type": "execute_result"
        }
      ],
      "source": [
        "data = {'Student': ['Ida', 'Edda', 'Gerda', 'Fred', 'Wolf'],\n",
        "      'Semester': [1, 3, 2, 5, 10], \n",
        "      'Notendurchschnitt': [1.3, 3.3, 2.7, 4.0, 4.0]}\n",
        "df = pd.DataFrame(data)\n",
        "df"
      ]
    },
    {
      "cell_type": "markdown",
      "metadata": {},
      "source": [
        "**Aufgabe 1c:**\n",
        "\n",
        "Was versteht man unter *Korrelation* bzw. *Korrelationskoeffizent* in der explorativen Statistik (explorative Datenanalyse - EDA)?"
      ]
    },
    {
      "cell_type": "markdown",
      "metadata": {},
      "source": [
        "Die *Korrelation* ist ein Maß für die **Stärke** und **Richtung** des linearen Zusammenhangs zwischen zwei Variablen. Nicht-lineare Zusammenhänge (z.B. kurvenförmige Beziehungen) werden durch die herkömmliche *Korrelation* nicht abgebildet. \n",
        "\n",
        "- Die **Stärke** wird durch den *Korrelationskoeffizienten* ausgedrückt, der Werte zwischen -1 und +1 annehmen kann. \n",
        "- Die **Richtung** wird durch das Vorzeichen des *Korrelationskoeffizenten* angezeigt: \n",
        "    * (+): Wenn eine Variable ansteigt, steigt (tendentiell) auch die andere.\n",
        "    * (-): Wenn eine Variable ansteigt, fällt (tendentiell) die andere.\n",
        "\n",
        "*Korrelation* bedeutet dabei nicht Kausalität, es lässt sich daraus nicht ableiten, dass eine Variable eine andere verursacht. Die *Korrelation* dient vielmehr dazu, Muster und Zusammenhänge in Daten zu erkennen. Sie hilft, Hypothesen zu generieren und weitere Untersuchungen anzustoßen. "
      ]
    },
    {
      "cell_type": "markdown",
      "metadata": {},
      "source": [
        "**Aufgabe 1d:**\n",
        "\n",
        "Erklären Sie den Begriff *Kovarianz* aus der Diskriminanzanalyse (statistische Klassifikationsverfahren)."
      ]
    },
    {
      "cell_type": "markdown",
      "metadata": {},
      "source": [
        "Die *Kovarianz* spielt eine wichtige Rolle in der Diskriminanzanalyse. Es stellt ein statistisches Maß dar, dass das Ausmaß bescheibt, in dem eine Variable in Abhängigkeit von einer anderen variiert. Die *Kovarianz* misst den (linearen) Zusammenhang zwischen zwei Variablen. Es zeigt dabei, **ob** und **wie stark** Variablen zusammenhängen.\n",
        "\n",
        "- (+) Kovarianz: tendentiell steigen oder fallen beide Variablen gleichzeitig\n",
        "- (-) Kovarianz: tendentiell steigt eine Variable, während die andere fällt (oder umgekehrt).\n",
        "\n",
        "Während die Korrelation auf Werte zwischen -1 und 1 beschränkt ist, hängt die Skalierung der Kovarianz von der Skalierung der Variablen ab. \n"
      ]
    },
    {
      "cell_type": "markdown",
      "metadata": {},
      "source": [
        "### Aufgabe_03_2.ipynb ###"
      ]
    },
    {
      "cell_type": "code",
      "execution_count": 38,
      "metadata": {
        "id": "UQahEJC-fBQ-"
      },
      "outputs": [],
      "source": [
        "# pandas-Bibliothek importieren\n",
        "import pandas as pd\n",
        "\n",
        "# pandas-Series fuer das Bundesland Hessen\n",
        "sHessen = pd.Series([4.78, 6.07], index=[1960, 2000])\n",
        "\n",
        "# 1960    4.78\n",
        "# 2000    6.07\n",
        "# dtype: float64\n",
        "\n",
        "# Dictionary mit der Bevoelklerung anlegen\n",
        "data = {'NRW':     {1960: 15.85, 2000: 18.00, 2020: 17.93},\n",
        "        'Bayern':  {1960:  9.49, 2000: 12.23, 2020: 13.14},\n",
        "        'Hamburg': {1960:  1.84, 2000:  1.72, 2020:  1.85}}"
      ]
    },
    {
      "cell_type": "markdown",
      "metadata": {
        "id": "G2J0knGBfNHJ"
      },
      "source": [
        "pandas-DataFrame aus dem Dictionary data erzeugen"
      ]
    },
    {
      "cell_type": "code",
      "execution_count": 2,
      "metadata": {
        "id": "T2rOk174fI7B"
      },
      "outputs": [
        {
          "data": {
            "text/html": [
              "<div>\n",
              "<style scoped>\n",
              "    .dataframe tbody tr th:only-of-type {\n",
              "        vertical-align: middle;\n",
              "    }\n",
              "\n",
              "    .dataframe tbody tr th {\n",
              "        vertical-align: top;\n",
              "    }\n",
              "\n",
              "    .dataframe thead th {\n",
              "        text-align: right;\n",
              "    }\n",
              "</style>\n",
              "<table border=\"1\" class=\"dataframe\">\n",
              "  <thead>\n",
              "    <tr style=\"text-align: right;\">\n",
              "      <th></th>\n",
              "      <th>NRW</th>\n",
              "      <th>Bayern</th>\n",
              "      <th>Hamburg</th>\n",
              "    </tr>\n",
              "  </thead>\n",
              "  <tbody>\n",
              "    <tr>\n",
              "      <th>1960</th>\n",
              "      <td>15.85</td>\n",
              "      <td>9.49</td>\n",
              "      <td>1.84</td>\n",
              "    </tr>\n",
              "    <tr>\n",
              "      <th>2000</th>\n",
              "      <td>18.00</td>\n",
              "      <td>12.23</td>\n",
              "      <td>1.72</td>\n",
              "    </tr>\n",
              "    <tr>\n",
              "      <th>2020</th>\n",
              "      <td>17.93</td>\n",
              "      <td>13.14</td>\n",
              "      <td>1.85</td>\n",
              "    </tr>\n",
              "  </tbody>\n",
              "</table>\n",
              "</div>"
            ],
            "text/plain": [
              "        NRW  Bayern  Hamburg\n",
              "1960  15.85    9.49     1.84\n",
              "2000  18.00   12.23     1.72\n",
              "2020  17.93   13.14     1.85"
            ]
          },
          "execution_count": 2,
          "metadata": {},
          "output_type": "execute_result"
        }
      ],
      "source": [
        "frame = pd.DataFrame(data)\n",
        "frame"
      ]
    },
    {
      "cell_type": "markdown",
      "metadata": {
        "id": "sSbJq-ZDfUpx"
      },
      "source": [
        "Namen für Zeilen und Spalten hinzufügen"
      ]
    },
    {
      "cell_type": "code",
      "execution_count": 3,
      "metadata": {
        "id": "F76A6WCVfX-A"
      },
      "outputs": [
        {
          "data": {
            "text/html": [
              "<div>\n",
              "<style scoped>\n",
              "    .dataframe tbody tr th:only-of-type {\n",
              "        vertical-align: middle;\n",
              "    }\n",
              "\n",
              "    .dataframe tbody tr th {\n",
              "        vertical-align: top;\n",
              "    }\n",
              "\n",
              "    .dataframe thead th {\n",
              "        text-align: right;\n",
              "    }\n",
              "</style>\n",
              "<table border=\"1\" class=\"dataframe\">\n",
              "  <thead>\n",
              "    <tr style=\"text-align: right;\">\n",
              "      <th>Bundesland</th>\n",
              "      <th>NRW</th>\n",
              "      <th>Bayern</th>\n",
              "      <th>Hamburg</th>\n",
              "    </tr>\n",
              "    <tr>\n",
              "      <th>Jahr</th>\n",
              "      <th></th>\n",
              "      <th></th>\n",
              "      <th></th>\n",
              "    </tr>\n",
              "  </thead>\n",
              "  <tbody>\n",
              "    <tr>\n",
              "      <th>1960</th>\n",
              "      <td>15.85</td>\n",
              "      <td>9.49</td>\n",
              "      <td>1.84</td>\n",
              "    </tr>\n",
              "    <tr>\n",
              "      <th>2000</th>\n",
              "      <td>18.00</td>\n",
              "      <td>12.23</td>\n",
              "      <td>1.72</td>\n",
              "    </tr>\n",
              "    <tr>\n",
              "      <th>2020</th>\n",
              "      <td>17.93</td>\n",
              "      <td>13.14</td>\n",
              "      <td>1.85</td>\n",
              "    </tr>\n",
              "  </tbody>\n",
              "</table>\n",
              "</div>"
            ],
            "text/plain": [
              "Bundesland    NRW  Bayern  Hamburg\n",
              "Jahr                              \n",
              "1960        15.85    9.49     1.84\n",
              "2000        18.00   12.23     1.72\n",
              "2020        17.93   13.14     1.85"
            ]
          },
          "execution_count": 3,
          "metadata": {},
          "output_type": "execute_result"
        }
      ],
      "source": [
        "frame.index.name = 'Jahr'; frame.columns.name = \"Bundesland\"\n",
        "frame"
      ]
    },
    {
      "cell_type": "markdown",
      "metadata": {
        "id": "ZctNoNfYfgJA"
      },
      "source": [
        "Ausgabe der Spalte 'Bayern'"
      ]
    },
    {
      "cell_type": "code",
      "execution_count": 4,
      "metadata": {
        "id": "C4JcBbA0fi-B"
      },
      "outputs": [
        {
          "data": {
            "text/plain": [
              "Jahr\n",
              "1960     9.49\n",
              "2000    12.23\n",
              "2020    13.14\n",
              "Name: Bayern, dtype: float64"
            ]
          },
          "execution_count": 4,
          "metadata": {},
          "output_type": "execute_result"
        }
      ],
      "source": [
        "frame['Bayern']\n",
        "#frame.Bayern"
      ]
    },
    {
      "cell_type": "markdown",
      "metadata": {
        "id": "839AogChfjjx"
      },
      "source": [
        "Ausgabe der Zeile 2000 "
      ]
    },
    {
      "cell_type": "code",
      "execution_count": 5,
      "metadata": {
        "id": "vQsET2lqfkEo"
      },
      "outputs": [
        {
          "data": {
            "text/plain": [
              "Bundesland\n",
              "NRW        18.00\n",
              "Bayern     12.23\n",
              "Hamburg     1.72\n",
              "Name: 2000, dtype: float64"
            ]
          },
          "execution_count": 5,
          "metadata": {},
          "output_type": "execute_result"
        }
      ],
      "source": [
        "frame.loc[2000]"
      ]
    },
    {
      "cell_type": "markdown",
      "metadata": {
        "id": "aubaPCnPfknx"
      },
      "source": [
        "DataFrame um das Bundesland 'Hessen' erweitern"
      ]
    },
    {
      "cell_type": "code",
      "execution_count": 8,
      "metadata": {
        "id": "Y87LbmAwflSI"
      },
      "outputs": [
        {
          "data": {
            "text/html": [
              "<div>\n",
              "<style scoped>\n",
              "    .dataframe tbody tr th:only-of-type {\n",
              "        vertical-align: middle;\n",
              "    }\n",
              "\n",
              "    .dataframe tbody tr th {\n",
              "        vertical-align: top;\n",
              "    }\n",
              "\n",
              "    .dataframe thead th {\n",
              "        text-align: right;\n",
              "    }\n",
              "</style>\n",
              "<table border=\"1\" class=\"dataframe\">\n",
              "  <thead>\n",
              "    <tr style=\"text-align: right;\">\n",
              "      <th>Bundesland</th>\n",
              "      <th>NRW</th>\n",
              "      <th>Bayern</th>\n",
              "      <th>Hamburg</th>\n",
              "      <th>Hessen</th>\n",
              "    </tr>\n",
              "    <tr>\n",
              "      <th>Jahr</th>\n",
              "      <th></th>\n",
              "      <th></th>\n",
              "      <th></th>\n",
              "      <th></th>\n",
              "    </tr>\n",
              "  </thead>\n",
              "  <tbody>\n",
              "    <tr>\n",
              "      <th>1960</th>\n",
              "      <td>15.85</td>\n",
              "      <td>9.49</td>\n",
              "      <td>1.84</td>\n",
              "      <td>4.78</td>\n",
              "    </tr>\n",
              "    <tr>\n",
              "      <th>2000</th>\n",
              "      <td>18.00</td>\n",
              "      <td>12.23</td>\n",
              "      <td>1.72</td>\n",
              "      <td>6.07</td>\n",
              "    </tr>\n",
              "    <tr>\n",
              "      <th>2020</th>\n",
              "      <td>17.93</td>\n",
              "      <td>13.14</td>\n",
              "      <td>1.85</td>\n",
              "      <td>NaN</td>\n",
              "    </tr>\n",
              "  </tbody>\n",
              "</table>\n",
              "</div>"
            ],
            "text/plain": [
              "Bundesland    NRW  Bayern  Hamburg  Hessen\n",
              "Jahr                                      \n",
              "1960        15.85    9.49     1.84    4.78\n",
              "2000        18.00   12.23     1.72    6.07\n",
              "2020        17.93   13.14     1.85     NaN"
            ]
          },
          "execution_count": 8,
          "metadata": {},
          "output_type": "execute_result"
        }
      ],
      "source": [
        "frame['Hessen'] = sHessen\n",
        "frame"
      ]
    },
    {
      "cell_type": "markdown",
      "metadata": {
        "id": "yfOWZEw-fvuZ"
      },
      "source": [
        "Alle NaN-Werte mit 0 füllen"
      ]
    },
    {
      "cell_type": "code",
      "execution_count": 23,
      "metadata": {
        "id": "SndybPUYfv_J"
      },
      "outputs": [
        {
          "data": {
            "text/html": [
              "<div>\n",
              "<style scoped>\n",
              "    .dataframe tbody tr th:only-of-type {\n",
              "        vertical-align: middle;\n",
              "    }\n",
              "\n",
              "    .dataframe tbody tr th {\n",
              "        vertical-align: top;\n",
              "    }\n",
              "\n",
              "    .dataframe thead th {\n",
              "        text-align: right;\n",
              "    }\n",
              "</style>\n",
              "<table border=\"1\" class=\"dataframe\">\n",
              "  <thead>\n",
              "    <tr style=\"text-align: right;\">\n",
              "      <th>Bundesland</th>\n",
              "      <th>NRW</th>\n",
              "      <th>Bayern</th>\n",
              "      <th>Hamburg</th>\n",
              "      <th>Hessen</th>\n",
              "    </tr>\n",
              "    <tr>\n",
              "      <th>Jahr</th>\n",
              "      <th></th>\n",
              "      <th></th>\n",
              "      <th></th>\n",
              "      <th></th>\n",
              "    </tr>\n",
              "  </thead>\n",
              "  <tbody>\n",
              "    <tr>\n",
              "      <th>1960</th>\n",
              "      <td>15.85</td>\n",
              "      <td>9.49</td>\n",
              "      <td>1.84</td>\n",
              "      <td>4.78</td>\n",
              "    </tr>\n",
              "    <tr>\n",
              "      <th>2000</th>\n",
              "      <td>18.00</td>\n",
              "      <td>12.23</td>\n",
              "      <td>1.72</td>\n",
              "      <td>6.07</td>\n",
              "    </tr>\n",
              "    <tr>\n",
              "      <th>2020</th>\n",
              "      <td>17.93</td>\n",
              "      <td>13.14</td>\n",
              "      <td>1.85</td>\n",
              "      <td>0.00</td>\n",
              "    </tr>\n",
              "  </tbody>\n",
              "</table>\n",
              "</div>"
            ],
            "text/plain": [
              "Bundesland    NRW  Bayern  Hamburg  Hessen\n",
              "Jahr                                      \n",
              "1960        15.85    9.49     1.84    4.78\n",
              "2000        18.00   12.23     1.72    6.07\n",
              "2020        17.93   13.14     1.85    0.00"
            ]
          },
          "execution_count": 23,
          "metadata": {},
          "output_type": "execute_result"
        }
      ],
      "source": [
        "dfData = frame.fillna(0) \n",
        "dfData"
      ]
    },
    {
      "cell_type": "markdown",
      "metadata": {
        "id": "Z3JiuLcUf1EB"
      },
      "source": [
        "Absteigend nach Bundesland 'NRW' sortieren"
      ]
    },
    {
      "cell_type": "code",
      "execution_count": 24,
      "metadata": {
        "id": "UXWYQRSwf3CS"
      },
      "outputs": [
        {
          "data": {
            "text/html": [
              "<div>\n",
              "<style scoped>\n",
              "    .dataframe tbody tr th:only-of-type {\n",
              "        vertical-align: middle;\n",
              "    }\n",
              "\n",
              "    .dataframe tbody tr th {\n",
              "        vertical-align: top;\n",
              "    }\n",
              "\n",
              "    .dataframe thead th {\n",
              "        text-align: right;\n",
              "    }\n",
              "</style>\n",
              "<table border=\"1\" class=\"dataframe\">\n",
              "  <thead>\n",
              "    <tr style=\"text-align: right;\">\n",
              "      <th>Bundesland</th>\n",
              "      <th>NRW</th>\n",
              "      <th>Bayern</th>\n",
              "      <th>Hamburg</th>\n",
              "      <th>Hessen</th>\n",
              "    </tr>\n",
              "    <tr>\n",
              "      <th>Jahr</th>\n",
              "      <th></th>\n",
              "      <th></th>\n",
              "      <th></th>\n",
              "      <th></th>\n",
              "    </tr>\n",
              "  </thead>\n",
              "  <tbody>\n",
              "    <tr>\n",
              "      <th>1960</th>\n",
              "      <td>15.85</td>\n",
              "      <td>9.49</td>\n",
              "      <td>1.84</td>\n",
              "      <td>4.78</td>\n",
              "    </tr>\n",
              "    <tr>\n",
              "      <th>2000</th>\n",
              "      <td>18.00</td>\n",
              "      <td>12.23</td>\n",
              "      <td>1.72</td>\n",
              "      <td>6.07</td>\n",
              "    </tr>\n",
              "    <tr>\n",
              "      <th>2020</th>\n",
              "      <td>17.93</td>\n",
              "      <td>13.14</td>\n",
              "      <td>1.85</td>\n",
              "      <td>0.00</td>\n",
              "    </tr>\n",
              "  </tbody>\n",
              "</table>\n",
              "</div>"
            ],
            "text/plain": [
              "Bundesland    NRW  Bayern  Hamburg  Hessen\n",
              "Jahr                                      \n",
              "1960        15.85    9.49     1.84    4.78\n",
              "2000        18.00   12.23     1.72    6.07\n",
              "2020        17.93   13.14     1.85    0.00"
            ]
          },
          "execution_count": 24,
          "metadata": {},
          "output_type": "execute_result"
        }
      ],
      "source": [
        "dfData.sort_values(by = 'NRW')\n",
        "dfData"
      ]
    },
    {
      "cell_type": "code",
      "execution_count": 25,
      "metadata": {
        "id": "ynC7b3Mmf5Oz"
      },
      "outputs": [
        {
          "name": "stdout",
          "output_type": "stream",
          "text": [
            "\n",
            "Bundesland    NRW  Bayern  Hamburg  Hessen\n",
            "Jahr                                      \n",
            "1960        15.85    9.49     1.84    4.78\n",
            "2000        18.00   12.23     1.72    6.07\n",
            "2020        17.93   13.14     1.85    0.00\n"
          ]
        }
      ],
      "source": [
        "# Ausgabe des DataFrames\n",
        "print(\"\\n{}\".format(dfData))\n",
        "\n",
        "### Ende Aufgabe_03_2.ipynb ###"
      ]
    }
  ],
  "metadata": {
    "colab": {
      "provenance": []
    },
    "kernelspec": {
      "display_name": "Python 3",
      "name": "python3"
    },
    "language_info": {
      "codemirror_mode": {
        "name": "ipython",
        "version": 3
      },
      "file_extension": ".py",
      "mimetype": "text/x-python",
      "name": "python",
      "nbconvert_exporter": "python",
      "pygments_lexer": "ipython3",
      "version": "3.11.9"
    }
  },
  "nbformat": 4,
  "nbformat_minor": 0
}
